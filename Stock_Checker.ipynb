{
 "cells": [
  {
   "cell_type": "code",
   "execution_count": 1,
   "metadata": {},
   "outputs": [],
   "source": [
    "import spacy\n",
    "import pandas as pd"
   ]
  },
  {
   "cell_type": "code",
   "execution_count": 2,
   "metadata": {},
   "outputs": [
    {
     "name": "stdout",
     "output_type": "stream",
     "text": [
      "Open VERB ROOT\n",
      "the DET det\n",
      "latest ADJ amod\n",
      "images NOUN dobj\n"
     ]
    }
   ],
   "source": [
    "nlp = spacy.load(\"en_core_web_sm\")\n",
    "doc = nlp(u\"Open the latest images\")\n",
    "for token in doc:\n",
    "    print(token.text, token.pos_, token.dep_)\n"
   ]
  },
  {
   "cell_type": "code",
   "execution_count": 3,
   "metadata": {},
   "outputs": [],
   "source": [
    "def get_cost(stock_name):\n",
    "    stocks = pd.read_csv('Stocks.txt', sep=\" \", header=None, names=['Stock', 'Price', 'Change'], skiprows=1)\n",
    "    check = 0\n",
    "    for s in range(0,len(stocks['Stock'])):\n",
    "        if stocks['Stock'][s] == stock_name:\n",
    "            print(stock_name + ' has a value of $' + str(stocks['Price'][s]) + ' which is ' + str(stocks['Change'][s]) + ' from yesterday.')\n",
    "            check = 1\n",
    "    if check == 0:\n",
    "        print('Stock not found')\n",
    "    return stocks"
   ]
  },
  {
   "cell_type": "code",
   "execution_count": 4,
   "metadata": {},
   "outputs": [
    {
     "name": "stdout",
     "output_type": "stream",
     "text": [
      "Tesla has a value of $266.38 which is -1.32 from yesterday.\n"
     ]
    }
   ],
   "source": [
    "doc = nlp(u\"Get the stock price for Tesla\")\n",
    "check = 0\n",
    "stock_check = ''\n",
    "for token in doc:\n",
    "    if token.pos_ == 'NOUN' and token.dep_ == 'compound':\n",
    "        if token.text == 'stock':\n",
    "            check = check + 1\n",
    "    if token.pos_ == 'NOUN' and token.dep_ == 'dobj':\n",
    "        if token.text == 'price':\n",
    "            check = check + 1\n",
    "    if token.pos_ == 'PROPN' and token.dep_ == 'pobj':\n",
    "        stock_check = token.text\n",
    "\n",
    "if check == 2:\n",
    "    get_cost(stock_check)\n",
    "else:\n",
    "    print('Nothing happened')"
   ]
  },
  {
   "cell_type": "code",
   "execution_count": 5,
   "metadata": {},
   "outputs": [
    {
     "name": "stdout",
     "output_type": "stream",
     "text": [
      "Stock not found\n"
     ]
    }
   ],
   "source": [
    "doc = nlp(u\"Check the stock price for Facebook\")\n",
    "check = 0\n",
    "stock_check = ''\n",
    "for token in doc:\n",
    "    if token.pos_ == 'NOUN' and token.dep_ == 'compound':\n",
    "        if token.text == 'stock':\n",
    "            check = check + 1\n",
    "    if token.pos_ == 'NOUN' and token.dep_ == 'dobj':\n",
    "        if token.text == 'price':\n",
    "            check = check + 1\n",
    "    if token.pos_ == 'PROPN' and token.dep_ == 'pobj':\n",
    "        stock_check = token.text\n",
    "\n",
    "if check == 2:\n",
    "    get_cost(stock_check)\n",
    "else:\n",
    "    print('Nothing happened')"
   ]
  },
  {
   "cell_type": "code",
   "execution_count": 6,
   "metadata": {},
   "outputs": [
    {
     "name": "stdout",
     "output_type": "stream",
     "text": [
      "Lyft has a value of $56.11 which is -3.78 from yesterday.\n"
     ]
    }
   ],
   "source": [
    "doc = nlp(u\"Check the stock price for Lyft\")\n",
    "check = 0\n",
    "stock_check = ''\n",
    "for token in doc:\n",
    "    if token.pos_ == 'NOUN' and token.dep_ == 'compound':\n",
    "        if token.text == 'stock':\n",
    "            check = check + 1\n",
    "    if token.pos_ == 'NOUN' and token.dep_ == 'dobj':\n",
    "        if token.text == 'price':\n",
    "            check = check + 1\n",
    "    if token.pos_ == 'PROPN' and token.dep_ == 'pobj':\n",
    "        stock_check = token.text\n",
    "\n",
    "if check == 2:\n",
    "    get_cost(stock_check)\n",
    "else:\n",
    "    print('Nothing happened')"
   ]
  },
  {
   "cell_type": "code",
   "execution_count": 7,
   "metadata": {},
   "outputs": [
    {
     "name": "stdout",
     "output_type": "stream",
     "text": [
      "Nothing happened\n"
     ]
    }
   ],
   "source": [
    "doc = nlp(u\"What are the earnings for Lyft?\")\n",
    "check = 0\n",
    "stock_check = ''\n",
    "for token in doc:\n",
    "    if token.pos_ == 'NOUN' and token.dep_ == 'compound':\n",
    "        if token.text == 'stock':\n",
    "            check = check + 1\n",
    "    if token.pos_ == 'NOUN' and token.dep_ == 'dobj':\n",
    "        if token.text == 'price':\n",
    "            check = check + 1\n",
    "    if token.pos_ == 'PROPN' and token.dep_ == 'pobj':\n",
    "        stock_check = token.text\n",
    "\n",
    "if check == 2:\n",
    "    get_cost(stock_check)\n",
    "else:\n",
    "    print('Nothing happened')"
   ]
  }
 ],
 "metadata": {
  "kernelspec": {
   "display_name": "Python 3",
   "language": "python",
   "name": "python3"
  },
  "language_info": {
   "codemirror_mode": {
    "name": "ipython",
    "version": 3
   },
   "file_extension": ".py",
   "mimetype": "text/x-python",
   "name": "python",
   "nbconvert_exporter": "python",
   "pygments_lexer": "ipython3",
   "version": "3.7.1"
  }
 },
 "nbformat": 4,
 "nbformat_minor": 2
}
