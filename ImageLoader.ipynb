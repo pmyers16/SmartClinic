{
 "cells": [
  {
   "cell_type": "markdown",
   "metadata": {},
   "source": [
    "# Smart Clinic Image Loader\n",
    "### By Patrick Myers and Brian Morris\n",
    "\n",
    "This code is in progress. It will take a voice command from the SmartClinic Alexa skill to open some piece of information. Right now, the only functions written are to open an image file with a specific date or by a relative date in a specific folder. Future functions will include:\n",
    "\n",
    "**More customization for opening files:**\n",
    "* Open lab results (first by specific date)\n",
    "* Open all files by name\n",
    "* Open all files by relative info such as 'most recent'\n",
    "* Open files when path is not certain\n",
    "\n",
    "**More features for the SmartClinic:**\n",
    "* Automatically add the opened files to the patient note\n",
    "* Record the diagnosis and the opened files to begin learning patterns"
   ]
  },
  {
   "cell_type": "markdown",
   "metadata": {},
   "source": [
    "Load in the libraries"
   ]
  },
  {
   "cell_type": "code",
   "execution_count": 1,
   "metadata": {},
   "outputs": [],
   "source": [
    "import spacy                        # NLP toolbox of choice\n",
    "import pandas as pd                 # A useful data storage toolbox\n",
    "from datetime import datetime       # Python formats for dates to match files\n",
    "from pathlib import Path            # Manipulation of paths to find files\n",
    "from os.path import isfile, join    # Simple toolbox for only looking at files\n",
    "import os                           # All operating system commands\n",
    "import calendar                     # Necessary for conversion to Month strings\n",
    "import sys                          # Accessing the system directly\n",
    "import subprocess                   # Calling subprocesses to open files\n",
    "from PIL import Image               # A more convenient way to open images                                                                               "
   ]
  },
  {
   "cell_type": "markdown",
   "metadata": {},
   "source": [
    "Load in the NLP dictionary. Must be downloaded first. Since this dictionary is not trained for medical jargon, some commands may struggle to be interpreted"
   ]
  },
  {
   "cell_type": "code",
   "execution_count": 2,
   "metadata": {},
   "outputs": [],
   "source": [
    "nlp = spacy.load(\"en_core_web_sm\")"
   ]
  },
  {
   "cell_type": "markdown",
   "metadata": {},
   "source": [
    "The method for calling a subprocess to open an image. Should be platform independent, but is messy. Not currently used."
   ]
  },
  {
   "cell_type": "code",
   "execution_count": 86,
   "metadata": {},
   "outputs": [],
   "source": [
    "def openImage(path):\n",
    "    imageViewerFromCommandLine = {'linux':'xdg-open',\n",
    "                                  'win32':'explorer',\n",
    "                                  'darwin':'open'}[sys.platform]\n",
    "    subprocess.run([imageViewerFromCommandLine, path])"
   ]
  },
  {
   "cell_type": "markdown",
   "metadata": {},
   "source": [
    "This function will parse through the methods by which the user wants to access the image, whether that be by its date, name, etc. Calls the appropriate function for that task. Currently, only by date by relative position work"
   ]
  },
  {
   "cell_type": "code",
   "execution_count": 3,
   "metadata": {},
   "outputs": [],
   "source": [
    "def get_img(command, when):\n",
    "    if command == 'ByDate':\n",
    "        get_img_bydate(when)\n",
    "    elif command == 'ByRelative':\n",
    "        get_img_byrel(when)\n",
    "    "
   ]
  },
  {
   "cell_type": "markdown",
   "metadata": {},
   "source": [
    "This is the function to open an image given the date of the image.  It is likely that the image will not actually be put into the filesystem on the day that the image was taken. If this is the case, we will need to add some functionality to find the file close to the requested date. \n",
    "\n",
    "The input date is in Python's datetime format. The checked images have their creation time pulled, but this time is in Python's time format. Some work is done to convert this time to the same datetime as the input date for comparison.\n",
    "\n",
    "The easier image opening method is used here, using PILLOW"
   ]
  },
  {
   "cell_type": "code",
   "execution_count": 4,
   "metadata": {},
   "outputs": [],
   "source": [
    "def get_img_bydate(dates):\n",
    "    mypath = str(Path().absolute())\n",
    "    imagepath = join(mypath,'Scans')\n",
    "    image_files = [f for f in os.listdir(imagepath) if os.path.isfile(join(imagepath,f))]\n",
    "    name_date = []\n",
    "    for f in image_files:\n",
    "        date = os.path.getctime(join(imagepath,f))\n",
    "        date = datetime.fromtimestamp(date).strftime('%Y-%m-%d %H:%M:%S')\n",
    "        date = date.split(\" \")\n",
    "        date = date[0]\n",
    "        date = (date.split(\"-\"))\n",
    "        month = int(date[1])\n",
    "        month = calendar.month_name[month]\n",
    "        month = month[0:3]\n",
    "        date[1] = month\n",
    "        date = [date[1], date[2], date[0]]\n",
    "        date = \" \".join(date)\n",
    "        date = datetime.strptime(date, '%b %d %Y')\n",
    "        name_date.append((f, date))\n",
    "    for i in range(0,len(name_date)):\n",
    "        if name_date[i][1] == dates[0]:\n",
    "            imgpath = join(imagepath, name_date[i][0])\n",
    "            img = Image.open(imgpath)\n",
    "            img.show()\n",
    "            "
   ]
  },
  {
   "cell_type": "markdown",
   "metadata": {},
   "source": [
    "This is the function to open an image by its relative position. Currently, only end images (the least or most recent) are accessible this way. \n",
    "\n",
    "The function finds all the image files available, then their corresponding date. Putting the two data points in a tuple allows us to sort the images by date. The most (or least) recent image is then opened.\n",
    "\n",
    "All specific functions are explained in get_img_bydate"
   ]
  },
  {
   "cell_type": "code",
   "execution_count": 5,
   "metadata": {},
   "outputs": [],
   "source": [
    "def get_img_byrel(relPos):\n",
    "    mypath = str(Path().absolute())\n",
    "    imagepath = join(mypath,'Scans')\n",
    "    image_files = [f for f in os.listdir(imagepath) if os.path.isfile(join(imagepath,f))]\n",
    "    name_date = []\n",
    "    for f in image_files:\n",
    "        date = os.path.getctime(join(imagepath,f))\n",
    "        date = datetime.fromtimestamp(date).strftime('%Y-%m-%d %H:%M:%S')\n",
    "        date = date.split(\" \")\n",
    "        date = date[0]\n",
    "        date = (date.split(\"-\"))\n",
    "        month = int(date[1])\n",
    "        month = calendar.month_name[month]\n",
    "        month = month[0:3]\n",
    "        date[1] = month\n",
    "        date = [date[1], date[2], date[0]]\n",
    "        date = \" \".join(date)\n",
    "        date = datetime.strptime(date, '%b %d %Y')\n",
    "        name_date.append((f, date))\n",
    "    name_date = sorted(name_date, key=lambda x: x[1])\n",
    "    if relPos == 'LR':\n",
    "        pos = 0\n",
    "    elif relPos == 'MR':\n",
    "        pos = len(name_date)-1\n",
    "    imgpath = join(imagepath, name_date[pos][0])\n",
    "    img = Image.open(imgpath)\n",
    "    img.show()"
   ]
  },
  {
   "cell_type": "markdown",
   "metadata": {},
   "source": [
    "This first test simulates a voice command for opening an image by its date. The function merges phrases (so February 11 2019 is seen as one word instead of three), then finds the dates within the request. The date is converted to a Python datetime for comparison.\n",
    "\n",
    "The test then makes sure that the direct object has the correct action word attached to it and is one of the files that we can provide. Currently, this is done by searching for the direct object, then looping back to the acting verb. This verb is checked against a list of terms that could be used to request a file. Then the direct object itself is checked to see if it is in the acceptible image or lab terms, directing the function call. This method of checking against common phrases is likely naive, so more research will be done and improvements will be made.\n",
    "\n",
    "If the request makes sense, then the image with the correct date is opened."
   ]
  },
  {
   "cell_type": "code",
   "execution_count": 6,
   "metadata": {},
   "outputs": [],
   "source": [
    "def Test1():\n",
    "    doc = nlp(u'Open the image from February 11 2019')\n",
    "    actions = ['open', 'show']\n",
    "    imageterms = ['image', 'scan', 'the image', 'the scan']\n",
    "    labterms = ['lab', 'test', 'the lab', 'the test']\n",
    "    spans = list(doc.ents) + list(doc.noun_chunks)\n",
    "    for span in spans:\n",
    "        span.merge()\n",
    "    dates = []\n",
    "    for date in filter(lambda w: w.ent_type_ == \"DATE\", doc):\n",
    "        date_text = date.text\n",
    "        mdy = date_text.split(' ')\n",
    "        mdy[0] = mdy[0][0:3]\n",
    "        date_text = \" \".join(mdy)\n",
    "        datetime_object = datetime.strptime(date_text, '%b %d %Y')\n",
    "        dates.append(datetime_object)\n",
    "    image = False\n",
    "    lab = False\n",
    "    for sent in doc.sents:\n",
    "        for i, word in enumerate(sent):\n",
    "            if word.head is word:\n",
    "                head_idx = 0\n",
    "            else:\n",
    "                head_idx = doc[i].head.i+1\n",
    "            if word.dep_ == 'dobj':\n",
    "                if doc[i].head.lemma_ in actions:\n",
    "                    if word.text in imageterms:\n",
    "                        print('Opening the image')\n",
    "                        image=True\n",
    "                    elif word.text in labterms:\n",
    "                        print('Opening the lab')\n",
    "                        lab=True\n",
    "            #print(\"%d\\t%s\\t%s\\t%s\\t%s\\t%s\\t%d\\t%s\\t%s\\t%s\"%(\n",
    "            #    i+1, # There's a word.i attr that's position in *doc*\n",
    "            #    word.text,\n",
    "            #    '_',\n",
    "            #    word.pos_, # Coarse-grained tag\n",
    "            #    word.tag_, # Fine-grained tag\n",
    "            #    '_',\n",
    "            #    head_idx,\n",
    "            #    word.dep_, # Relation\n",
    "            #    '_', '_'))\n",
    "    if dates and image:\n",
    "        get_img('ByDate', dates)"
   ]
  },
  {
   "cell_type": "markdown",
   "metadata": {},
   "source": [
    "The second test simulates a voice command to open a file based on some relative information. Right now, the only relative term tested is 'recent', but this will be updated when more time is spent in clinic. The test searches for the adjective modifier (in this case, the term 'recent') and notes its index. It then searches through all of the words that point to the term 'recent' to see if it is negated by 'least'. \n",
    "\n",
    "Based on this negation or lack thereof, the test calls to the get_img function with either the indicator of 'MR' for most recent or 'LR' for lease recent"
   ]
  },
  {
   "cell_type": "code",
   "execution_count": 9,
   "metadata": {},
   "outputs": [],
   "source": [
    "def Test2(): \n",
    "    doc = nlp(u'Open the most recent image')\n",
    "    actions = ['open', 'show']\n",
    "    imageterms = ['image', 'scan', 'the image', 'the scan']\n",
    "    labterms = ['lab', 'test', 'the lab', 'the test']\n",
    "    relind = -1\n",
    "    MRbool = False\n",
    "    LRbool = False\n",
    "    for sent in doc.sents:\n",
    "        for i, word in enumerate(sent):\n",
    "            if word.dep_ == 'amod':\n",
    "                relind = i\n",
    "    for sent in doc.sents:\n",
    "        for i, word in enumerate(sent):\n",
    "            if word.head.i == relind:\n",
    "                if word.text == 'most' and doc[relind].text == 'recent':\n",
    "                    MRbool = True\n",
    "                elif word.text == 'least' and doc[relind].text == 'recent':\n",
    "                    LRbool = True\n",
    "    if MRbool:\n",
    "        print('Opening the most recent image')\n",
    "        get_img('ByRelative', 'MR')"
   ]
  },
  {
   "cell_type": "markdown",
   "metadata": {},
   "source": [
    "Run all the tests"
   ]
  },
  {
   "cell_type": "code",
   "execution_count": 10,
   "metadata": {},
   "outputs": [
    {
     "name": "stdout",
     "output_type": "stream",
     "text": [
      "Opening the image\n",
      "Opening the most recent image\n"
     ]
    }
   ],
   "source": [
    "Test1()\n",
    "Test2()"
   ]
  }
 ],
 "metadata": {
  "kernelspec": {
   "display_name": "Python 3",
   "language": "python",
   "name": "python3"
  },
  "language_info": {
   "codemirror_mode": {
    "name": "ipython",
    "version": 3
   },
   "file_extension": ".py",
   "mimetype": "text/x-python",
   "name": "python",
   "nbconvert_exporter": "python",
   "pygments_lexer": "ipython3",
   "version": "3.7.1"
  }
 },
 "nbformat": 4,
 "nbformat_minor": 2
}
